{
 "cells": [
  {
   "cell_type": "code",
   "execution_count": 1,
   "metadata": {},
   "outputs": [],
   "source": [
    "import os\n",
    "import numpy as np\n",
    "import cv2\n",
    "from sklearn.model_selection import train_test_split"
   ]
  },
  {
   "cell_type": "code",
   "execution_count": 2,
   "metadata": {},
   "outputs": [],
   "source": [
    "cwd = os.getcwd()\n",
    "path_input = cwd + \"/dataset/input\"\n",
    "path_output = cwd + \"/dataset/output\""
   ]
  },
  {
   "cell_type": "code",
   "execution_count": 3,
   "metadata": {},
   "outputs": [
    {
     "name": "stdout",
     "output_type": "stream",
     "text": [
      "100 images are done!\n",
      "200 images are done!\n",
      "300 images are done!\n",
      "400 images are done!\n",
      "500 images are done!\n",
      "600 images are done!\n",
      "700 images are done!\n",
      "800 images are done!\n",
      "832 images are done!\n"
     ]
    }
   ],
   "source": [
    "# Original Dimensions for train\n",
    "N = 832\n",
    "image_width = 256\n",
    "image_height = 256\n",
    "channels = 3\n",
    "dimension = (image_width, image_height)\n",
    "\n",
    "i = 0\n",
    "\n",
    "X = np.ndarray(shape = (N, image_height, image_width, 1), dtype = np.float32)\n",
    "Y = np.ndarray(shape = (N, image_height, image_width, channels), dtype = np.float32)\n",
    "\n",
    "for filename in sorted(os.listdir(path_input)):\n",
    "    if filename.endswith(\".png\"):\n",
    "        image_input = cv2.imread(path_input + \"/\" + filename, cv2.IMREAD_UNCHANGED)\n",
    "        image_input = image_input.reshape(image_height, image_width, 1)\n",
    "        image_output = cv2.imread(path_output + \"/\" + filename, cv2.IMREAD_UNCHANGED)\n",
    "        X[i] = image_input\n",
    "        Y[i] = image_output\n",
    "         \n",
    "        i += 1\n",
    "        \n",
    "        if i % 100 == 0:\n",
    "            print(str(i) + \" images are done!\")\n",
    "    else:\n",
    "        continue\n",
    "\n",
    "print(str(N) + \" images are done!\")"
   ]
  },
  {
   "cell_type": "code",
   "execution_count": 4,
   "metadata": {},
   "outputs": [
    {
     "name": "stdout",
     "output_type": "stream",
     "text": [
      "Train set size: 520, Val set size: 104, Test set size: 208\n",
      "X_train shape: (520, 256, 256, 1), X_val shape: (104, 256, 256, 1), X_test shape: (208, 256, 256, 1)\n",
      "Y_train shape: (520, 256, 256, 3), Y_val shape: (104, 256, 256, 3), Y_test shape: (208, 256, 256, 3)\n"
     ]
    }
   ],
   "source": [
    "X_train, X_test, Y_train, Y_test = train_test_split(X, Y, test_size = 0.25, random_state = 13)\n",
    "X_train, X_val, Y_train, Y_val = train_test_split(X_train, Y_train, test_size = 1/6, random_state = 13)\n",
    "print(\"Train set size: {0}, Val set size: {1}, Test set size: {2}\".format(len(X_train), len(X_val), len(X_test)))\n",
    "print(\"X_train shape: {0}, X_val shape: {1}, X_test shape: {2}\".format(X_train.shape, X_val.shape, X_test.shape))\n",
    "print(\"Y_train shape: {0}, Y_val shape: {1}, Y_test shape: {2}\".format(Y_train.shape, Y_val.shape, Y_test.shape))"
   ]
  }
 ],
 "metadata": {
  "kernelspec": {
   "display_name": "Python 3",
   "language": "python",
   "name": "python3"
  },
  "language_info": {
   "codemirror_mode": {
    "name": "ipython",
    "version": 3
   },
   "file_extension": ".py",
   "mimetype": "text/x-python",
   "name": "python",
   "nbconvert_exporter": "python",
   "pygments_lexer": "ipython3",
   "version": "3.7.3"
  },
  "widgets": {
   "state": {},
   "version": "1.1.2"
  }
 },
 "nbformat": 4,
 "nbformat_minor": 2
}
