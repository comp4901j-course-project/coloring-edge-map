{
  "nbformat": 4,
  "nbformat_minor": 0,
  "metadata": {
    "colab": {
      "name": "CycleGAN.ipynb",
      "version": "0.3.2",
      "provenance": [],
      "collapsed_sections": []
    },
    "kernelspec": {
      "name": "python3",
      "display_name": "Python 3"
    },
    "accelerator": "GPU"
  },
  "cells": [
    {
      "cell_type": "code",
      "metadata": {
        "id": "Eq7wAGVrr911",
        "colab_type": "code",
        "colab": {}
      },
      "source": [
        "import tensorflow as tf\n",
        "import random\n",
        "import numpy as np\n",
        "import os\n",
        "import matplotlib.pyplot as plt\n",
        "import matplotlib.image as mpimg\n",
        "import cv2\n",
        "from sklearn.model_selection import train_test_split\n",
        "%matplotlib inline"
      ],
      "execution_count": 0,
      "outputs": []
    },
    {
      "cell_type": "code",
      "metadata": {
        "id": "A8kec9kVsIqw",
        "colab_type": "code",
        "outputId": "fd15bfd8-442d-423f-f5c3-df2da0291697",
        "colab": {
          "base_uri": "https://localhost:8080/",
          "height": 34
        }
      },
      "source": [
        "from google.colab import drive\n",
        "drive.mount('/content/drive')"
      ],
      "execution_count": 3,
      "outputs": [
        {
          "output_type": "stream",
          "text": [
            "Drive already mounted at /content/drive; to attempt to forcibly remount, call drive.mount(\"/content/drive\", force_remount=True).\n"
          ],
          "name": "stdout"
        }
      ]
    },
    {
      "cell_type": "code",
      "metadata": {
        "id": "rR2UlWvgsfaY",
        "colab_type": "code",
        "outputId": "e8aa2850-bb55-4f44-8e37-47b102aec399",
        "colab": {
          "base_uri": "https://localhost:8080/",
          "height": 2604
        }
      },
      "source": [
        "!python \"/content/drive/My Drive/Colab Notebooks/Cycle/cycle-gan.py\" --task butterfly --image_size 256"
      ],
      "execution_count": 9,
      "outputs": [
        {
          "output_type": "stream",
          "text": [
            "INFO:cycle-gan:Read data:\n",
            "Check data /content/drive/My Drive/Colab Notebooks/Cycle/datasets/butterfly_edge_reverse\n",
            "Load data butterfly_edge_reverse\n",
            "/content/drive/My Drive/Colab Notebooks/Cycle/datasets/butterfly_edge_reverse/trainA_256.hy\n",
            "/content/drive/My Drive/Colab Notebooks/Cycle/datasets/butterfly_edge_reverse/trainB_256.hy\n",
            "/content/drive/My Drive/Colab Notebooks/Cycle/datasets/butterfly_edge_reverse/testA_256.hy\n",
            "/content/drive/My Drive/Colab Notebooks/Cycle/datasets/butterfly_edge_reverse/testB_256.hy\n",
            "INFO:cycle-gan:Build graph:\n",
            "\n",
            "WARNING: The TensorFlow contrib module will not be included in TensorFlow 2.0.\n",
            "For more information, please see:\n",
            "  * https://github.com/tensorflow/community/blob/master/rfcs/20180907-contrib-sunset.md\n",
            "  * https://github.com/tensorflow/addons\n",
            "If you depend on functionality not listed there, please file an issue.\n",
            "\n",
            "WARNING:tensorflow:From /content/drive/My Drive/Colab Notebooks/Cycle/model.py:53: get_or_create_global_step (from tensorflow.contrib.framework.python.ops.variables) is deprecated and will be removed in a future version.\n",
            "Instructions for updating:\n",
            "Please switch to tf.train.get_or_create_global_step\n",
            "WARNING:tensorflow:From /content/drive/My Drive/Colab Notebooks/Cycle/model.py:53: get_or_create_global_step (from tensorflow.contrib.framework.python.ops.variables) is deprecated and will be removed in a future version.\n",
            "Instructions for updating:\n",
            "Please switch to tf.train.get_or_create_global_step\n",
            "WARNING:tensorflow:From /usr/local/lib/python3.6/dist-packages/tensorflow/python/framework/op_def_library.py:263: colocate_with (from tensorflow.python.framework.ops) is deprecated and will be removed in a future version.\n",
            "Instructions for updating:\n",
            "Colocations handled automatically by placer.\n",
            "WARNING:tensorflow:From /usr/local/lib/python3.6/dist-packages/tensorflow/python/framework/op_def_library.py:263: colocate_with (from tensorflow.python.framework.ops) is deprecated and will be removed in a future version.\n",
            "Instructions for updating:\n",
            "Colocations handled automatically by placer.\n",
            "INFO:cycle-gan:Init Generator G_ab\n",
            "INFO:cycle-gan:Init Generator G_ba\n",
            "INFO:cycle-gan:Init Discriminator D_a\n",
            "INFO:cycle-gan:Init Discriminator D_b\n",
            "WARNING:tensorflow:From /usr/local/lib/python3.6/dist-packages/tensorflow/python/ops/math_ops.py:3066: to_int32 (from tensorflow.python.ops.math_ops) is deprecated and will be removed in a future version.\n",
            "Instructions for updating:\n",
            "Use tf.cast instead.\n",
            "WARNING:tensorflow:From /usr/local/lib/python3.6/dist-packages/tensorflow/python/ops/math_ops.py:3066: to_int32 (from tensorflow.python.ops.math_ops) is deprecated and will be removed in a future version.\n",
            "Instructions for updating:\n",
            "Use tf.cast instead.\n",
            "INFO:cycle-gan:Trainable vars:\n",
            "INFO:cycle-gan:  G_ab/c7s1-32/w:0 (7, 7, 3, 32)\n",
            "INFO:cycle-gan:  G_ab/d64/w:0 (3, 3, 32, 64)\n",
            "INFO:cycle-gan:  G_ab/d128/w:0 (3, 3, 64, 128)\n",
            "INFO:cycle-gan:  G_ab/R128_0/res1/w:0 (3, 3, 128, 128)\n",
            "INFO:cycle-gan:  G_ab/R128_0/res2/w:0 (3, 3, 128, 128)\n",
            "INFO:cycle-gan:  G_ab/R128_1/res1/w:0 (3, 3, 128, 128)\n",
            "INFO:cycle-gan:  G_ab/R128_1/res2/w:0 (3, 3, 128, 128)\n",
            "INFO:cycle-gan:  G_ab/R128_2/res1/w:0 (3, 3, 128, 128)\n",
            "INFO:cycle-gan:  G_ab/R128_2/res2/w:0 (3, 3, 128, 128)\n",
            "INFO:cycle-gan:  G_ab/R128_3/res1/w:0 (3, 3, 128, 128)\n",
            "INFO:cycle-gan:  G_ab/R128_3/res2/w:0 (3, 3, 128, 128)\n",
            "INFO:cycle-gan:  G_ab/R128_4/res1/w:0 (3, 3, 128, 128)\n",
            "INFO:cycle-gan:  G_ab/R128_4/res2/w:0 (3, 3, 128, 128)\n",
            "INFO:cycle-gan:  G_ab/R128_5/res1/w:0 (3, 3, 128, 128)\n",
            "INFO:cycle-gan:  G_ab/R128_5/res2/w:0 (3, 3, 128, 128)\n",
            "INFO:cycle-gan:  G_ab/R128_6/res1/w:0 (3, 3, 128, 128)\n",
            "INFO:cycle-gan:  G_ab/R128_6/res2/w:0 (3, 3, 128, 128)\n",
            "INFO:cycle-gan:  G_ab/R128_7/res1/w:0 (3, 3, 128, 128)\n",
            "INFO:cycle-gan:  G_ab/R128_7/res2/w:0 (3, 3, 128, 128)\n",
            "INFO:cycle-gan:  G_ab/R128_8/res1/w:0 (3, 3, 128, 128)\n",
            "INFO:cycle-gan:  G_ab/R128_8/res2/w:0 (3, 3, 128, 128)\n",
            "INFO:cycle-gan:  G_ab/u64/w:0 (3, 3, 64, 128)\n",
            "INFO:cycle-gan:  G_ab/u32/w:0 (3, 3, 32, 64)\n",
            "INFO:cycle-gan:  G_ab/c7s1-3/w:0 (7, 7, 32, 3)\n",
            "INFO:cycle-gan:  G_ba/c7s1-32/w:0 (7, 7, 3, 32)\n",
            "INFO:cycle-gan:  G_ba/d64/w:0 (3, 3, 32, 64)\n",
            "INFO:cycle-gan:  G_ba/d128/w:0 (3, 3, 64, 128)\n",
            "INFO:cycle-gan:  G_ba/R128_0/res1/w:0 (3, 3, 128, 128)\n",
            "INFO:cycle-gan:  G_ba/R128_0/res2/w:0 (3, 3, 128, 128)\n",
            "INFO:cycle-gan:  G_ba/R128_1/res1/w:0 (3, 3, 128, 128)\n",
            "INFO:cycle-gan:  G_ba/R128_1/res2/w:0 (3, 3, 128, 128)\n",
            "INFO:cycle-gan:  G_ba/R128_2/res1/w:0 (3, 3, 128, 128)\n",
            "INFO:cycle-gan:  G_ba/R128_2/res2/w:0 (3, 3, 128, 128)\n",
            "INFO:cycle-gan:  G_ba/R128_3/res1/w:0 (3, 3, 128, 128)\n",
            "INFO:cycle-gan:  G_ba/R128_3/res2/w:0 (3, 3, 128, 128)\n",
            "INFO:cycle-gan:  G_ba/R128_4/res1/w:0 (3, 3, 128, 128)\n",
            "INFO:cycle-gan:  G_ba/R128_4/res2/w:0 (3, 3, 128, 128)\n",
            "INFO:cycle-gan:  G_ba/R128_5/res1/w:0 (3, 3, 128, 128)\n",
            "INFO:cycle-gan:  G_ba/R128_5/res2/w:0 (3, 3, 128, 128)\n",
            "INFO:cycle-gan:  G_ba/R128_6/res1/w:0 (3, 3, 128, 128)\n",
            "INFO:cycle-gan:  G_ba/R128_6/res2/w:0 (3, 3, 128, 128)\n",
            "INFO:cycle-gan:  G_ba/R128_7/res1/w:0 (3, 3, 128, 128)\n",
            "INFO:cycle-gan:  G_ba/R128_7/res2/w:0 (3, 3, 128, 128)\n",
            "INFO:cycle-gan:  G_ba/R128_8/res1/w:0 (3, 3, 128, 128)\n",
            "INFO:cycle-gan:  G_ba/R128_8/res2/w:0 (3, 3, 128, 128)\n",
            "INFO:cycle-gan:  G_ba/u64/w:0 (3, 3, 64, 128)\n",
            "INFO:cycle-gan:  G_ba/u32/w:0 (3, 3, 32, 64)\n",
            "INFO:cycle-gan:  G_ba/c7s1-3/w:0 (7, 7, 32, 3)\n",
            "INFO:cycle-gan:  D_a/C64/w:0 (4, 4, 3, 64)\n",
            "INFO:cycle-gan:  D_a/C128/w:0 (4, 4, 64, 128)\n",
            "INFO:cycle-gan:  D_a/C256/w:0 (4, 4, 128, 256)\n",
            "INFO:cycle-gan:  D_a/C512/w:0 (4, 4, 256, 512)\n",
            "INFO:cycle-gan:  D_a/C1/w:0 (4, 4, 512, 1)\n",
            "INFO:cycle-gan:  D_a/C1/b:0 (1, 1, 1, 1)\n",
            "INFO:cycle-gan:  D_b/C64/w:0 (4, 4, 3, 64)\n",
            "INFO:cycle-gan:  D_b/C128/w:0 (4, 4, 64, 128)\n",
            "INFO:cycle-gan:  D_b/C256/w:0 (4, 4, 128, 256)\n",
            "INFO:cycle-gan:  D_b/C512/w:0 (4, 4, 256, 512)\n",
            "INFO:cycle-gan:  D_b/C1/w:0 (4, 4, 512, 1)\n",
            "INFO:cycle-gan:  D_b/C1/b:0 (1, 1, 1, 1)\n",
            "INFO:cycle-gan:Events directory: /content/drive/My Drive/Colab Notebooks/Cycle/logs/butterfly_edge_reverse_2019-05-11_08-03-07\n",
            "WARNING:tensorflow:From /content/drive/My Drive/Colab Notebooks/Cycle/cycle-gan.py:85: Supervisor.__init__ (from tensorflow.python.training.supervisor) is deprecated and will be removed in a future version.\n",
            "Instructions for updating:\n",
            "Please switch to tf.train.MonitoredTrainingSession\n",
            "WARNING:tensorflow:From /content/drive/My Drive/Colab Notebooks/Cycle/cycle-gan.py:85: Supervisor.__init__ (from tensorflow.python.training.supervisor) is deprecated and will be removed in a future version.\n",
            "Instructions for updating:\n",
            "Please switch to tf.train.MonitoredTrainingSession\n",
            "INFO:cycle-gan:Starting training session.\n",
            "2019-05-11 08:03:08.924738: I tensorflow/core/platform/profile_utils/cpu_utils.cc:94] CPU Frequency: 2300000000 Hz\n",
            "2019-05-11 08:03:08.924985: I tensorflow/compiler/xla/service/service.cc:150] XLA service 0x7dc3440 executing computations on platform Host. Devices:\n",
            "2019-05-11 08:03:08.925019: I tensorflow/compiler/xla/service/service.cc:158]   StreamExecutor device (0): <undefined>, <undefined>\n",
            "2019-05-11 08:03:09.051765: I tensorflow/stream_executor/cuda/cuda_gpu_executor.cc:998] successful NUMA node read from SysFS had negative value (-1), but there must be at least one NUMA node, so returning NUMA node zero\n",
            "2019-05-11 08:03:09.052268: I tensorflow/compiler/xla/service/service.cc:150] XLA service 0x8f19600 executing computations on platform CUDA. Devices:\n",
            "2019-05-11 08:03:09.052302: I tensorflow/compiler/xla/service/service.cc:158]   StreamExecutor device (0): Tesla T4, Compute Capability 7.5\n",
            "2019-05-11 08:03:09.052576: I tensorflow/core/common_runtime/gpu/gpu_device.cc:1433] Found device 0 with properties: \n",
            "name: Tesla T4 major: 7 minor: 5 memoryClockRate(GHz): 1.59\n",
            "pciBusID: 0000:00:04.0\n",
            "totalMemory: 14.73GiB freeMemory: 5.90GiB\n",
            "2019-05-11 08:03:09.052603: I tensorflow/core/common_runtime/gpu/gpu_device.cc:1512] Adding visible gpu devices: 0\n",
            "2019-05-11 08:03:09.562938: I tensorflow/core/common_runtime/gpu/gpu_device.cc:984] Device interconnect StreamExecutor with strength 1 edge matrix:\n",
            "2019-05-11 08:03:09.562995: I tensorflow/core/common_runtime/gpu/gpu_device.cc:990]      0 \n",
            "2019-05-11 08:03:09.563009: I tensorflow/core/common_runtime/gpu/gpu_device.cc:1003] 0:   N \n",
            "2019-05-11 08:03:09.563200: W tensorflow/core/common_runtime/gpu/gpu_bfc_allocator.cc:42] Overriding allow_growth setting because the TF_FORCE_GPU_ALLOW_GROWTH environment variable is set. Original config value was 0.\n",
            "2019-05-11 08:03:09.563245: I tensorflow/core/common_runtime/gpu/gpu_device.cc:1115] Created TensorFlow device (/job:localhost/replica:0/task:0/device:GPU:0 with 5647 MB memory) -> physical GPU (device: 0, name: Tesla T4, pci bus id: 0000:00:04.0, compute capability: 7.5)\n",
            "INFO:cycle-gan:Initializing all parameters.\n",
            "INFO:cycle-gan:Start training.\n",
            "INFO:cycle-gan:  586 images from A\n",
            "INFO:cycle-gan:  586 images from B\n",
            "Loss: D_a(0.173) D_b(0.205) G_ab(0.233) G_ba(0.207) cycle(1.724):  47% 5461/11720 [25:00<29:13,  3.57it/s]WARNING:tensorflow:From /usr/local/lib/python3.6/dist-packages/tensorflow/python/training/saver.py:966: remove_checkpoint (from tensorflow.python.training.checkpoint_management) is deprecated and will be removed in a future version.\n",
            "Instructions for updating:\n",
            "Use standard file APIs to delete files with this prefix.\n",
            "WARNING:tensorflow:From /usr/local/lib/python3.6/dist-packages/tensorflow/python/training/saver.py:966: remove_checkpoint (from tensorflow.python.training.checkpoint_management) is deprecated and will be removed in a future version.\n",
            "Instructions for updating:\n",
            "Use standard file APIs to delete files with this prefix.\n",
            "Loss: D_a(0.004) D_b(0.124) G_ab(0.232) G_ba(0.633) cycle(1.139): 100% 11720/11720 [53:24<00:00,  3.68it/s]\n",
            "INFO:cycle-gan:Starting testing session.\n",
            "2019-05-11 08:56:44.065416: I tensorflow/core/common_runtime/gpu/gpu_device.cc:1512] Adding visible gpu devices: 0\n",
            "2019-05-11 08:56:44.065473: I tensorflow/core/common_runtime/gpu/gpu_device.cc:984] Device interconnect StreamExecutor with strength 1 edge matrix:\n",
            "2019-05-11 08:56:44.065491: I tensorflow/core/common_runtime/gpu/gpu_device.cc:990]      0 \n",
            "2019-05-11 08:56:44.065504: I tensorflow/core/common_runtime/gpu/gpu_device.cc:1003] 0:   N \n",
            "2019-05-11 08:56:44.065641: I tensorflow/core/common_runtime/gpu/gpu_device.cc:1115] Created TensorFlow device (/job:localhost/replica:0/task:0/device:GPU:0 with 5647 MB memory) -> physical GPU (device: 0, name: Tesla T4, pci bus id: 0000:00:04.0, compute capability: 7.5)\n",
            "WARNING:tensorflow:From /usr/local/lib/python3.6/dist-packages/tensorflow/python/training/saver.py:1266: checkpoint_exists (from tensorflow.python.training.checkpoint_management) is deprecated and will be removed in a future version.\n",
            "Instructions for updating:\n",
            "Use standard file APIs to check for files with this prefix.\n",
            "WARNING:tensorflow:From /usr/local/lib/python3.6/dist-packages/tensorflow/python/training/saver.py:1266: checkpoint_exists (from tensorflow.python.training.checkpoint_management) is deprecated and will be removed in a future version.\n",
            "Instructions for updating:\n",
            "Use standard file APIs to check for files with this prefix.\n",
            "WARNING:tensorflow:From /usr/local/lib/python3.6/dist-packages/tensorflow/python/training/saver.py:1070: get_checkpoint_mtimes (from tensorflow.python.training.checkpoint_management) is deprecated and will be removed in a future version.\n",
            "Instructions for updating:\n",
            "Use standard file utilities to get mtimes.\n",
            "WARNING:tensorflow:From /usr/local/lib/python3.6/dist-packages/tensorflow/python/training/saver.py:1070: get_checkpoint_mtimes (from tensorflow.python.training.checkpoint_management) is deprecated and will be removed in a future version.\n",
            "Instructions for updating:\n",
            "Use standard file utilities to get mtimes.\n"
          ],
          "name": "stdout"
        }
      ]
    },
    {
      "cell_type": "code",
      "metadata": {
        "id": "Trvon7iJw28L",
        "colab_type": "code",
        "outputId": "93a47fa3-422e-4d67-8db9-28ed6d9cb95a",
        "colab": {
          "base_uri": "https://localhost:8080/",
          "height": 34
        }
      },
      "source": [
        "import tensorflow as tf\n",
        "device_name = tf.test.gpu_device_name()\n",
        "if device_name != '/device:GPU:0':\n",
        "  raise SystemError('GPU device not found')\n",
        "print('Found GPU at: {}'.format(device_name))"
      ],
      "execution_count": 10,
      "outputs": [
        {
          "output_type": "stream",
          "text": [
            "Found GPU at: /device:GPU:0\n"
          ],
          "name": "stdout"
        }
      ]
    },
    {
      "cell_type": "code",
      "metadata": {
        "id": "lcGaoj51hKn6",
        "colab_type": "code",
        "colab": {}
      },
      "source": [
        "def make_square(image):\n",
        "    height, width = image.shape[0], image.shape[1]\n",
        "    size = max(height, width)\n",
        "    top = bottom = int((size - height) / 2)\n",
        "    left = right = int((size - width) / 2)\n",
        "    new_image = cv2.copyMakeBorder(image, top, bottom, left, right, cv2.BORDER_CONSTANT, value = [255, 255, 255])\n",
        "    return new_image"
      ],
      "execution_count": 0,
      "outputs": []
    },
    {
      "cell_type": "code",
      "metadata": {
        "id": "3L4imdbHAJgu",
        "colab_type": "code",
        "outputId": "2dcdafa5-f16b-4152-eee0-446cafa92343",
        "colab": {
          "base_uri": "https://localhost:8080/",
          "height": 303
        }
      },
      "source": [
        "path = '/content/drive/My Drive/Colab Notebooks/butterfly'\n",
        "path_output = '/content/drive/My Drive/Colab Notebooks/Cycle/datasets/butterfly_test/testA'\n",
        "image_input = cv2.imread(path + \"/\" + 'exp1.png', cv2.IMREAD_UNCHANGED)\n",
        "plt.imshow(image_input)\n",
        "image_input = make_square(image_input)\n",
        "image_input = cv2.resize(image_input, (256, 256))\n",
        "image_input = np.array(np.asarray(image_input))\n",
        "image_input = image_input[:, :, 0:3]\n",
        "cv2.imwrite(path_output + \"/\" + 'exp1.png', image_input)\n",
        "print(image_input.shape)\n",
        "plt.imshow(image_input)"
      ],
      "execution_count": 12,
      "outputs": [
        {
          "output_type": "stream",
          "text": [
            "(256, 256, 3)\n"
          ],
          "name": "stdout"
        },
        {
          "output_type": "execute_result",
          "data": {
            "text/plain": [
              "<matplotlib.image.AxesImage at 0x7f2e917c3d30>"
            ]
          },
          "metadata": {
            "tags": []
          },
          "execution_count": 12
        },
        {
          "output_type": "display_data",
          "data": {
            "image/png": "[encoded data removed]",
            "text/plain": [
              "<Figure size 432x288 with 1 Axes>"
            ]
          },
          "metadata": {
            "tags": []
          }
        }
      ]
    },
    {
      "cell_type": "code",
      "metadata": {
        "id": "5mTzF0PrhBs6",
        "colab_type": "code",
        "outputId": "056399d0-1d70-4bfe-c270-7b1417735895",
        "colab": {
          "base_uri": "https://localhost:8080/",
          "height": 2502
        }
      },
      "source": [
        "!python \"/content/drive/My Drive/Colab Notebooks/Cycle/cycle-gan.py\" --task butterfly_test --image_size 256 --load_model butterfly_2019-05-08_03-26-37-666"
      ],
      "execution_count": 14,
      "outputs": [
        {
          "output_type": "stream",
          "text": [
            "INFO:cycle-gan:Read data:\n",
            "Check data /content/drive/My Drive/Colab Notebooks/Cycle/datasets/butterfly_test\n",
            "Load data butterfly_test\n",
            "/content/drive/My Drive/Colab Notebooks/Cycle/datasets/butterfly_test/trainA_256.hy\n",
            "/content/drive/My Drive/Colab Notebooks/Cycle/datasets/butterfly_test/trainB_256.hy\n",
            "/content/drive/My Drive/Colab Notebooks/Cycle/datasets/butterfly_test/testA_256.hy\n",
            "/content/drive/My Drive/Colab Notebooks/Cycle/datasets/butterfly_test/testB_256.hy\n",
            "INFO:cycle-gan:Build graph:\n",
            "\n",
            "WARNING: The TensorFlow contrib module will not be included in TensorFlow 2.0.\n",
            "For more information, please see:\n",
            "  * https://github.com/tensorflow/community/blob/master/rfcs/20180907-contrib-sunset.md\n",
            "  * https://github.com/tensorflow/addons\n",
            "If you depend on functionality not listed there, please file an issue.\n",
            "\n",
            "WARNING:tensorflow:From /content/drive/My Drive/Colab Notebooks/Cycle/model.py:53: get_or_create_global_step (from tensorflow.contrib.framework.python.ops.variables) is deprecated and will be removed in a future version.\n",
            "Instructions for updating:\n",
            "Please switch to tf.train.get_or_create_global_step\n",
            "WARNING:tensorflow:From /content/drive/My Drive/Colab Notebooks/Cycle/model.py:53: get_or_create_global_step (from tensorflow.contrib.framework.python.ops.variables) is deprecated and will be removed in a future version.\n",
            "Instructions for updating:\n",
            "Please switch to tf.train.get_or_create_global_step\n",
            "WARNING:tensorflow:From /usr/local/lib/python3.6/dist-packages/tensorflow/python/framework/op_def_library.py:263: colocate_with (from tensorflow.python.framework.ops) is deprecated and will be removed in a future version.\n",
            "Instructions for updating:\n",
            "Colocations handled automatically by placer.\n",
            "WARNING:tensorflow:From /usr/local/lib/python3.6/dist-packages/tensorflow/python/framework/op_def_library.py:263: colocate_with (from tensorflow.python.framework.ops) is deprecated and will be removed in a future version.\n",
            "Instructions for updating:\n",
            "Colocations handled automatically by placer.\n",
            "INFO:cycle-gan:Init Generator G_ab\n",
            "INFO:cycle-gan:Init Generator G_ba\n",
            "INFO:cycle-gan:Init Discriminator D_a\n",
            "INFO:cycle-gan:Init Discriminator D_b\n",
            "WARNING:tensorflow:From /usr/local/lib/python3.6/dist-packages/tensorflow/python/ops/math_ops.py:3066: to_int32 (from tensorflow.python.ops.math_ops) is deprecated and will be removed in a future version.\n",
            "Instructions for updating:\n",
            "Use tf.cast instead.\n",
            "WARNING:tensorflow:From /usr/local/lib/python3.6/dist-packages/tensorflow/python/ops/math_ops.py:3066: to_int32 (from tensorflow.python.ops.math_ops) is deprecated and will be removed in a future version.\n",
            "Instructions for updating:\n",
            "Use tf.cast instead.\n",
            "INFO:cycle-gan:Trainable vars:\n",
            "INFO:cycle-gan:  G_ab/c7s1-32/w:0 (7, 7, 3, 32)\n",
            "INFO:cycle-gan:  G_ab/d64/w:0 (3, 3, 32, 64)\n",
            "INFO:cycle-gan:  G_ab/d128/w:0 (3, 3, 64, 128)\n",
            "INFO:cycle-gan:  G_ab/R128_0/res1/w:0 (3, 3, 128, 128)\n",
            "INFO:cycle-gan:  G_ab/R128_0/res2/w:0 (3, 3, 128, 128)\n",
            "INFO:cycle-gan:  G_ab/R128_1/res1/w:0 (3, 3, 128, 128)\n",
            "INFO:cycle-gan:  G_ab/R128_1/res2/w:0 (3, 3, 128, 128)\n",
            "INFO:cycle-gan:  G_ab/R128_2/res1/w:0 (3, 3, 128, 128)\n",
            "INFO:cycle-gan:  G_ab/R128_2/res2/w:0 (3, 3, 128, 128)\n",
            "INFO:cycle-gan:  G_ab/R128_3/res1/w:0 (3, 3, 128, 128)\n",
            "INFO:cycle-gan:  G_ab/R128_3/res2/w:0 (3, 3, 128, 128)\n",
            "INFO:cycle-gan:  G_ab/R128_4/res1/w:0 (3, 3, 128, 128)\n",
            "INFO:cycle-gan:  G_ab/R128_4/res2/w:0 (3, 3, 128, 128)\n",
            "INFO:cycle-gan:  G_ab/R128_5/res1/w:0 (3, 3, 128, 128)\n",
            "INFO:cycle-gan:  G_ab/R128_5/res2/w:0 (3, 3, 128, 128)\n",
            "INFO:cycle-gan:  G_ab/R128_6/res1/w:0 (3, 3, 128, 128)\n",
            "INFO:cycle-gan:  G_ab/R128_6/res2/w:0 (3, 3, 128, 128)\n",
            "INFO:cycle-gan:  G_ab/R128_7/res1/w:0 (3, 3, 128, 128)\n",
            "INFO:cycle-gan:  G_ab/R128_7/res2/w:0 (3, 3, 128, 128)\n",
            "INFO:cycle-gan:  G_ab/R128_8/res1/w:0 (3, 3, 128, 128)\n",
            "INFO:cycle-gan:  G_ab/R128_8/res2/w:0 (3, 3, 128, 128)\n",
            "INFO:cycle-gan:  G_ab/u64/w:0 (3, 3, 64, 128)\n",
            "INFO:cycle-gan:  G_ab/u32/w:0 (3, 3, 32, 64)\n",
            "INFO:cycle-gan:  G_ab/c7s1-3/w:0 (7, 7, 32, 3)\n",
            "INFO:cycle-gan:  G_ba/c7s1-32/w:0 (7, 7, 3, 32)\n",
            "INFO:cycle-gan:  G_ba/d64/w:0 (3, 3, 32, 64)\n",
            "INFO:cycle-gan:  G_ba/d128/w:0 (3, 3, 64, 128)\n",
            "INFO:cycle-gan:  G_ba/R128_0/res1/w:0 (3, 3, 128, 128)\n",
            "INFO:cycle-gan:  G_ba/R128_0/res2/w:0 (3, 3, 128, 128)\n",
            "INFO:cycle-gan:  G_ba/R128_1/res1/w:0 (3, 3, 128, 128)\n",
            "INFO:cycle-gan:  G_ba/R128_1/res2/w:0 (3, 3, 128, 128)\n",
            "INFO:cycle-gan:  G_ba/R128_2/res1/w:0 (3, 3, 128, 128)\n",
            "INFO:cycle-gan:  G_ba/R128_2/res2/w:0 (3, 3, 128, 128)\n",
            "INFO:cycle-gan:  G_ba/R128_3/res1/w:0 (3, 3, 128, 128)\n",
            "INFO:cycle-gan:  G_ba/R128_3/res2/w:0 (3, 3, 128, 128)\n",
            "INFO:cycle-gan:  G_ba/R128_4/res1/w:0 (3, 3, 128, 128)\n",
            "INFO:cycle-gan:  G_ba/R128_4/res2/w:0 (3, 3, 128, 128)\n",
            "INFO:cycle-gan:  G_ba/R128_5/res1/w:0 (3, 3, 128, 128)\n",
            "INFO:cycle-gan:  G_ba/R128_5/res2/w:0 (3, 3, 128, 128)\n",
            "INFO:cycle-gan:  G_ba/R128_6/res1/w:0 (3, 3, 128, 128)\n",
            "INFO:cycle-gan:  G_ba/R128_6/res2/w:0 (3, 3, 128, 128)\n",
            "INFO:cycle-gan:  G_ba/R128_7/res1/w:0 (3, 3, 128, 128)\n",
            "INFO:cycle-gan:  G_ba/R128_7/res2/w:0 (3, 3, 128, 128)\n",
            "INFO:cycle-gan:  G_ba/R128_8/res1/w:0 (3, 3, 128, 128)\n",
            "INFO:cycle-gan:  G_ba/R128_8/res2/w:0 (3, 3, 128, 128)\n",
            "INFO:cycle-gan:  G_ba/u64/w:0 (3, 3, 64, 128)\n",
            "INFO:cycle-gan:  G_ba/u32/w:0 (3, 3, 32, 64)\n",
            "INFO:cycle-gan:  G_ba/c7s1-3/w:0 (7, 7, 32, 3)\n",
            "INFO:cycle-gan:  D_a/C64/w:0 (4, 4, 3, 64)\n",
            "INFO:cycle-gan:  D_a/C128/w:0 (4, 4, 64, 128)\n",
            "INFO:cycle-gan:  D_a/C256/w:0 (4, 4, 128, 256)\n",
            "INFO:cycle-gan:  D_a/C512/w:0 (4, 4, 256, 512)\n",
            "INFO:cycle-gan:  D_a/C1/w:0 (4, 4, 512, 1)\n",
            "INFO:cycle-gan:  D_a/C1/b:0 (1, 1, 1, 1)\n",
            "INFO:cycle-gan:  D_b/C64/w:0 (4, 4, 3, 64)\n",
            "INFO:cycle-gan:  D_b/C128/w:0 (4, 4, 64, 128)\n",
            "INFO:cycle-gan:  D_b/C256/w:0 (4, 4, 128, 256)\n",
            "INFO:cycle-gan:  D_b/C512/w:0 (4, 4, 256, 512)\n",
            "INFO:cycle-gan:  D_b/C1/w:0 (4, 4, 512, 1)\n",
            "INFO:cycle-gan:  D_b/C1/b:0 (1, 1, 1, 1)\n",
            "INFO:cycle-gan:Events directory: /content/drive/My Drive/Colab Notebooks/Cycle/logs/butterfly_2019-05-08_03-26-37-666\n",
            "WARNING:tensorflow:From /content/drive/My Drive/Colab Notebooks/Cycle/cycle-gan.py:85: Supervisor.__init__ (from tensorflow.python.training.supervisor) is deprecated and will be removed in a future version.\n",
            "Instructions for updating:\n",
            "Please switch to tf.train.MonitoredTrainingSession\n",
            "WARNING:tensorflow:From /content/drive/My Drive/Colab Notebooks/Cycle/cycle-gan.py:85: Supervisor.__init__ (from tensorflow.python.training.supervisor) is deprecated and will be removed in a future version.\n",
            "Instructions for updating:\n",
            "Please switch to tf.train.MonitoredTrainingSession\n",
            "INFO:cycle-gan:Starting training session.\n",
            "2019-05-11 09:03:32.860459: I tensorflow/core/platform/profile_utils/cpu_utils.cc:94] CPU Frequency: 2300000000 Hz\n",
            "2019-05-11 09:03:32.860688: I tensorflow/compiler/xla/service/service.cc:150] XLA service 0x2d70d60 executing computations on platform Host. Devices:\n",
            "2019-05-11 09:03:32.860722: I tensorflow/compiler/xla/service/service.cc:158]   StreamExecutor device (0): <undefined>, <undefined>\n",
            "2019-05-11 09:03:32.993656: I tensorflow/stream_executor/cuda/cuda_gpu_executor.cc:998] successful NUMA node read from SysFS had negative value (-1), but there must be at least one NUMA node, so returning NUMA node zero\n",
            "2019-05-11 09:03:32.994149: I tensorflow/compiler/xla/service/service.cc:150] XLA service 0x2d71440 executing computations on platform CUDA. Devices:\n",
            "2019-05-11 09:03:32.994182: I tensorflow/compiler/xla/service/service.cc:158]   StreamExecutor device (0): Tesla T4, Compute Capability 7.5\n",
            "2019-05-11 09:03:32.994471: I tensorflow/core/common_runtime/gpu/gpu_device.cc:1433] Found device 0 with properties: \n",
            "name: Tesla T4 major: 7 minor: 5 memoryClockRate(GHz): 1.59\n",
            "pciBusID: 0000:00:04.0\n",
            "totalMemory: 14.73GiB freeMemory: 5.90GiB\n",
            "2019-05-11 09:03:32.994497: I tensorflow/core/common_runtime/gpu/gpu_device.cc:1512] Adding visible gpu devices: 0\n",
            "2019-05-11 09:03:33.489228: I tensorflow/core/common_runtime/gpu/gpu_device.cc:984] Device interconnect StreamExecutor with strength 1 edge matrix:\n",
            "2019-05-11 09:03:33.489290: I tensorflow/core/common_runtime/gpu/gpu_device.cc:990]      0 \n",
            "2019-05-11 09:03:33.489304: I tensorflow/core/common_runtime/gpu/gpu_device.cc:1003] 0:   N \n",
            "2019-05-11 09:03:33.489503: W tensorflow/core/common_runtime/gpu/gpu_bfc_allocator.cc:42] Overriding allow_growth setting because the TF_FORCE_GPU_ALLOW_GROWTH environment variable is set. Original config value was 0.\n",
            "2019-05-11 09:03:33.489549: I tensorflow/core/common_runtime/gpu/gpu_device.cc:1115] Created TensorFlow device (/job:localhost/replica:0/task:0/device:GPU:0 with 5647 MB memory) -> physical GPU (device: 0, name: Tesla T4, pci bus id: 0000:00:04.0, compute capability: 7.5)\n",
            "INFO:cycle-gan:Initializing all parameters.\n",
            "INFO:cycle-gan:Start training.\n",
            "INFO:cycle-gan:  1 images from A\n",
            "INFO:cycle-gan:  1 images from B\n",
            "Loss: D_a(0.167) D_b(0.404) G_ab(0.765) G_ba(0.119) cycle(18.802): 100% 20/20 [00:22<00:00,  3.76it/s]\n",
            "INFO:cycle-gan:Starting testing session.\n",
            "2019-05-11 09:04:06.372127: I tensorflow/core/common_runtime/gpu/gpu_device.cc:1512] Adding visible gpu devices: 0\n",
            "2019-05-11 09:04:06.372197: I tensorflow/core/common_runtime/gpu/gpu_device.cc:984] Device interconnect StreamExecutor with strength 1 edge matrix:\n",
            "2019-05-11 09:04:06.372213: I tensorflow/core/common_runtime/gpu/gpu_device.cc:990]      0 \n",
            "2019-05-11 09:04:06.372225: I tensorflow/core/common_runtime/gpu/gpu_device.cc:1003] 0:   N \n",
            "2019-05-11 09:04:06.372377: I tensorflow/core/common_runtime/gpu/gpu_device.cc:1115] Created TensorFlow device (/job:localhost/replica:0/task:0/device:GPU:0 with 5647 MB memory) -> physical GPU (device: 0, name: Tesla T4, pci bus id: 0000:00:04.0, compute capability: 7.5)\n",
            "WARNING:tensorflow:From /usr/local/lib/python3.6/dist-packages/tensorflow/python/training/saver.py:1266: checkpoint_exists (from tensorflow.python.training.checkpoint_management) is deprecated and will be removed in a future version.\n",
            "Instructions for updating:\n",
            "Use standard file APIs to check for files with this prefix.\n",
            "WARNING:tensorflow:From /usr/local/lib/python3.6/dist-packages/tensorflow/python/training/saver.py:1266: checkpoint_exists (from tensorflow.python.training.checkpoint_management) is deprecated and will be removed in a future version.\n",
            "Instructions for updating:\n",
            "Use standard file APIs to check for files with this prefix.\n",
            "WARNING:tensorflow:From /usr/local/lib/python3.6/dist-packages/tensorflow/python/training/saver.py:1070: get_checkpoint_mtimes (from tensorflow.python.training.checkpoint_management) is deprecated and will be removed in a future version.\n",
            "Instructions for updating:\n",
            "Use standard file utilities to get mtimes.\n",
            "WARNING:tensorflow:From /usr/local/lib/python3.6/dist-packages/tensorflow/python/training/saver.py:1070: get_checkpoint_mtimes (from tensorflow.python.training.checkpoint_management) is deprecated and will be removed in a future version.\n",
            "Instructions for updating:\n",
            "Use standard file utilities to get mtimes.\n"
          ],
          "name": "stdout"
        }
      ]
    },
    {
      "cell_type": "code",
      "metadata": {
        "id": "2hUOb7vNl97W",
        "colab_type": "code",
        "colab": {}
      },
      "source": [
        ""
      ],
      "execution_count": 0,
      "outputs": []
    }
  ]
}