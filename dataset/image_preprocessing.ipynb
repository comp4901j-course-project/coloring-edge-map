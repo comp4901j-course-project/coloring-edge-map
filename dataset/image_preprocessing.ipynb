{
 "cells": [
  {
   "cell_type": "code",
   "execution_count": 1,
   "metadata": {},
   "outputs": [],
   "source": [
    "import os\n",
    "import numpy as np\n",
    "from PIL import Image\n",
    "from sklearn.model_selection import train_test_split"
   ]
  },
  {
   "cell_type": "code",
   "execution_count": 2,
   "metadata": {},
   "outputs": [],
   "source": [
    "def make_square(image):\n",
    "    if image.mode == \"RGB\":\n",
    "        fill_color = (0, 0, 0)\n",
    "    elif image.mode == \"L\":\n",
    "        fill_color = (0)\n",
    "    width, height = image.size\n",
    "    size = max(width, height)\n",
    "    new_image = Image.new(image.mode, (size, size), fill_color)\n",
    "    new_image.paste(image, (int((size - width) / 2), int((size - height) / 2)))\n",
    "    return new_image"
   ]
  },
  {
   "cell_type": "code",
   "execution_count": 5,
   "metadata": {},
   "outputs": [],
   "source": [
    "cwd = os.getcwd()\n",
    "path_input = cwd + \"/input\"\n",
    "path_output = cwd + \"/output\""
   ]
  },
  {
   "cell_type": "code",
   "execution_count": 6,
   "metadata": {},
   "outputs": [
    {
     "name": "stdout",
     "output_type": "stream",
     "text": [
      "100 images are done!\n",
      "200 images are done!\n",
      "300 images are done!\n",
      "400 images are done!\n",
      "500 images are done!\n"
     ]
    }
   ],
   "source": [
    "# Original Dimensions for train\n",
    "N = 500\n",
    "image_width = 481\n",
    "image_height = 481\n",
    "channels = 3\n",
    "ratio = 1\n",
    "\n",
    "image_width = int(image_width / ratio)\n",
    "image_height = int(image_height / ratio)\n",
    "\n",
    "i = 0\n",
    "\n",
    "X = np.ndarray(shape = (N, image_height, image_width), dtype = np.float32)\n",
    "Y = np.ndarray(shape = (N, image_height, image_width, channels), dtype = np.float32)\n",
    "\n",
    "for filename in sorted(os.listdir(path_input)):\n",
    "    if filename.endswith(\".jpg\"):\n",
    "        image_input = Image.open(path_input + \"/\" + filename)\n",
    "        image_input = make_square(image_input)\n",
    "        image_input = image_input.resize((image_width, image_height), Image.ANTIALIAS)\n",
    "        image_input = np.asarray(image_input)\n",
    "        \n",
    "        image_output = Image.open(path_output + \"/\" + filename)\n",
    "        image_output = make_square(image_output)\n",
    "        image_output = image_output.resize((image_width, image_height), Image.ANTIALIAS)\n",
    "        image_output = np.asarray(image_output)\n",
    "        \n",
    "        X[i] = image_input\n",
    "        Y[i] = image_output\n",
    "        i += 1\n",
    "        \n",
    "        if i % 100 == 0:\n",
    "            print(str(i) + \" images are done!\")\n",
    "    else:\n",
    "        continue"
   ]
  },
  {
   "cell_type": "code",
   "execution_count": 7,
   "metadata": {},
   "outputs": [
    {
     "name": "stdout",
     "output_type": "stream",
     "text": [
      "Train set size: 350, Val set size: 50, Test set size: 100\n"
     ]
    }
   ],
   "source": [
    "X_train, X_test, Y_train, Y_test = train_test_split(X, Y, test_size = 0.2, random_state = 13)\n",
    "X_train, X_val, Y_train, Y_val = train_test_split(X_train, Y_train, test_size = 0.125, random_state = 13)\n",
    "print(\"Train set size: {0}, Val set size: {1}, Test set size: {2}\".format(len(X_train), len(X_val), len(X_test)))"
   ]
  }
 ],
 "metadata": {
  "kernelspec": {
   "display_name": "Python 3",
   "language": "python",
   "name": "python3"
  },
  "language_info": {
   "codemirror_mode": {
    "name": "ipython",
    "version": 3
   },
   "file_extension": ".py",
   "mimetype": "text/x-python",
   "name": "python",
   "nbconvert_exporter": "python",
   "pygments_lexer": "ipython3",
   "version": "3.7.2"
  }
 },
 "nbformat": 4,
 "nbformat_minor": 2
}
